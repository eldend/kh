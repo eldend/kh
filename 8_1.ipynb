{
  "nbformat": 4,
  "nbformat_minor": 0,
  "metadata": {
    "colab": {
      "provenance": [],
      "authorship_tag": "ABX9TyPIwyLjC9e6zZJflBp42mgA",
      "include_colab_link": true
    },
    "kernelspec": {
      "name": "python3",
      "display_name": "Python 3"
    },
    "language_info": {
      "name": "python"
    }
  },
  "cells": [
    {
      "cell_type": "markdown",
      "metadata": {
        "id": "view-in-github",
        "colab_type": "text"
      },
      "source": [
        "<a href=\"https://colab.research.google.com/github/eldend/kh/blob/main/8_1.ipynb\" target=\"_parent\"><img src=\"https://colab.research.google.com/assets/colab-badge.svg\" alt=\"Open In Colab\"/></a>"
      ]
    },
    {
      "cell_type": "markdown",
      "source": [
        "7장에서 사용한 밀집층에는 뉴런마다 입력 개수만큼의 가주치가 있어, 모든 입력에 가중치를 곱합"
      ],
      "metadata": {
        "id": "rF7_tz3nF5Rt"
      }
    },
    {
      "cell_type": "markdown",
      "source": [
        "**인공신경망**\n",
        "\n",
        "\n",
        "인공 신경망은 처음에 가중치들과 절편을 랜덤하게 초기화한 다음 에포크를 반복하면서 경사 하강법 알고리즘을 사용하여 손실이 낮아지 도록 최 적의 가중치와 절편을 찾아감 이것이 바로 모델 훈련임\n",
        "\n",
        "예를 들어 밀집층에 뉴런이 3개 있다면 입력의 개수와 상관없이 출력은 3개가 됨\n",
        "\n",
        "\n",
        "**합성곱 신경망(convolution neural network)**\n",
        "\n",
        "\n",
        "합성곱은 밀집증의 계산과 조금 다름\n",
        "입력 데이터 전체에 가중치를 적용하는 것이 아니라 일부에 가중치를 곱함\n",
        "\n",
        " 예를 들어, 입력값이 10개이고 뉴런이 3개의 가중치를 가지고 있다면, 1..3번째 입력에 대한 뉴런을 수행하고 다음에는 2.3 4번째 입력에 대해서 반복\n",
        "\n",
        "반복결과 8개의 출력이 나오게 되며, 여기서 사용되는 하나의 뉴런의 가중치와 절편은 동일 오른쪽 그림의 뉴런의 색이 각각 다르지만 이는 구분을 쉽게하기 위해 색을 구분한 것이고 실제로는 동일한 뉴런임"
      ],
      "metadata": {
        "id": "jmsWHX9uGpOe"
      }
    },
    {
      "cell_type": "markdown",
      "source": [
        "**특성 맵(feature map)**: 합성곱 계산을 통해 얻은 출력으로 활성화 함수가 적용된 값임\n",
        "\n",
        "\n",
        "밀집층에서 여러 개의 뉴런을 사용하듯 합성곱 층에서도 여러 개의 필터를 사용할 수 있음\n",
        "여러개의 필터를 사용하면 만들어진 특성 맵은 순서대로 차곡차곡 쌓임 (2,2) 크기의 특성 맵을 쌓으면 (2.2,3)의 3차원 배열이 됨"
      ],
      "metadata": {
        "id": "LdwfCd1EG2DP"
      }
    },
    {
      "cell_type": "markdown",
      "source": [
        "**밀집층 vs. 합성곱**\n",
        "\n",
        "계산은 밀집층과 동일하게 단순히 입력과 가중치를 곱하고 절편을 더한 것 차이는 다음과 같음\n",
        "\n",
        "1. 2차원 형태를 유지\n",
        "2. 입력보다 훨씬 작은 크기의 커널을 사용\n",
        "이렇게 2차원 구조를 그대로 사용하기 때문에 합성곱 신경망이 이미지 처리 분야에서 뛰어난 성능을 발휘\n",
        "\n",
        "**케라스 합성곱 층**\n",
        "\n",
        "keras.layers 패키지 아래의 클래스로 구현됨 위와 같은 합성곱은 Conv20 클래스로 제공됨"
      ],
      "metadata": {
        "id": "wiA5aXB-HnTk"
      }
    },
    {
      "cell_type": "code",
      "source": [
        "from tensorflow import keras\n",
        "keras.layers(Conv2D(kernel_size=(3,3), activation='relu'))"
      ],
      "metadata": {
        "colab": {
          "base_uri": "https://localhost:8080/",
          "height": 203
        },
        "id": "tse4spsAIlTU",
        "outputId": "635cfe5f-4a7c-408b-882d-1fea69bc487f"
      },
      "execution_count": 3,
      "outputs": [
        {
          "output_type": "error",
          "ename": "NameError",
          "evalue": "ignored",
          "traceback": [
            "\u001b[0;31m---------------------------------------------------------------------------\u001b[0m",
            "\u001b[0;31mNameError\u001b[0m                                 Traceback (most recent call last)",
            "\u001b[0;32m<ipython-input-3-7a99941b1d36>\u001b[0m in \u001b[0;36m<cell line: 2>\u001b[0;34m()\u001b[0m\n\u001b[1;32m      1\u001b[0m \u001b[0;32mfrom\u001b[0m \u001b[0mtensorflow\u001b[0m \u001b[0;32mimport\u001b[0m \u001b[0mkeras\u001b[0m\u001b[0;34m\u001b[0m\u001b[0;34m\u001b[0m\u001b[0m\n\u001b[0;32m----> 2\u001b[0;31m \u001b[0mkeras\u001b[0m\u001b[0;34m.\u001b[0m\u001b[0mlayers\u001b[0m\u001b[0;34m(\u001b[0m\u001b[0mConv2D\u001b[0m\u001b[0;34m(\u001b[0m\u001b[0mkernel_size\u001b[0m\u001b[0;34m=\u001b[0m\u001b[0;34m(\u001b[0m\u001b[0;36m3\u001b[0m\u001b[0;34m,\u001b[0m\u001b[0;36m3\u001b[0m\u001b[0;34m)\u001b[0m\u001b[0;34m,\u001b[0m \u001b[0mactivation\u001b[0m\u001b[0;34m=\u001b[0m\u001b[0;34m'relu'\u001b[0m\u001b[0;34m)\u001b[0m\u001b[0;34m)\u001b[0m\u001b[0;34m\u001b[0m\u001b[0;34m\u001b[0m\u001b[0m\n\u001b[0m",
            "\u001b[0;31mNameError\u001b[0m: name 'Conv2D' is not defined"
          ]
        }
      ]
    },
    {
      "cell_type": "markdown",
      "source": [
        "Conv2D의 첫 번째 매개변수는 필터의 개수\n",
        "kernal_size는 필터에 사용할 커널의 크기 (하이퍼 파라미터이며, 보통 (3.3) 또는 (5.5)를 추천)\n",
        "\n",
        "activation은 활성화 함수, 여기서는 텔루 함수 사용 참고로 특성맵은 활성화 함수가 적용된 값임"
      ],
      "metadata": {
        "id": "uSmaQwklIQNt"
      }
    },
    {
      "cell_type": "markdown",
      "source": [
        "**합성곱 신경망의 정의**\n",
        "\n",
        "1개 이상의 합성곱 층을 쓴 인공 신경망을 의미함\n",
        "\n",
        "클래스에 대한 확률을 계산하려면 마지막 층에 클래스 개수만큼 뉴런을 가진 밀집층을 두는 것이 일반적임\n",
        "\n",
        "합성곱 신경망 구조에서 자주 사용되는 기능들을 알아보자"
      ],
      "metadata": {
        "id": "pezVrbboIebd"
      }
    },
    {
      "cell_type": "markdown",
      "source": [
        "**패딩**\n",
        "\n",
        "\n",
        "커널 크기를 고정하면서도 출력의 크기를 입력과 동일하게 만들기 위해 입력 배열 주위를 가상의 원소로 채우는 것 실제 입력값은 아니므로 0으로 채워지며 계산에 영향을 주지 않음"
      ],
      "metadata": {
        "id": "HtFLJCuwI6XR"
      }
    },
    {
      "cell_type": "markdown",
      "source": [
        "**세임 패딩(same padding)**\n",
        "\n",
        "입력과 특성 맵의 크기를 동일하게 만들기 위해 입력 주위에 0으로 패딩하는 것 합성곱 신경망에서는 세임 패딩이 많이 사용됨\n",
        "\n",
        "**벨리드 패딩(valid padding)**\n",
        "\n",
        "패딩없이 순수한 음력 배열에서만 합성곱을 하여 특성 맵을 만드는 것 특성 맵의 크기가 줄어듦"
      ],
      "metadata": {
        "id": "kflZ4L2DJtIP"
      }
    },
    {
      "cell_type": "markdown",
      "source": [
        "**왜 합성곱에서는 패딩을 즐겨 사용하는가?**\n",
        "\n",
        "패딩이 없다면 모서리값들은 커널 도장에 딱 한 번만 쓰이지만 다른 원소들은 2번이상 커널과 계산됨 즉, 모서리에 있는 중요한 정보가 특정 맵으로 잘 전달되지 않을 가능성이 높고 가운데 있는 정보는 두드러지게 표현될 것임 패딩을 하지 않을 경우, 중앙과 모서리 픽셀이 합성곱에 참여하는 비율이 (4:1)로 크게 차이가 남 반면에 패딩을 한다면 (9:4)로 차이가 감소함"
      ],
      "metadata": {
        "id": "sZXQEh-FJ0Mm"
      }
    },
    {
      "cell_type": "code",
      "source": [
        "keras.layers(Conv2D(kernel_size=(3,3), activation='relu', padding='same'))"
      ],
      "metadata": {
        "id": "sYb185AJKAgm"
      },
      "execution_count": null,
      "outputs": []
    },
    {
      "cell_type": "markdown",
      "source": [
        "**스트라이드(stride)**\n",
        "\n",
        "합성곱 연산에서 커널이 이동하는 칸 수 기본값은 1로 좌우, 위아래로 한 칸씩 이동함 이동하는 크기를 (1.1)과 같이 튜플을 사용해 각각 지정 가능 합성곱 연산 횟수와 특성 맵의 크기를 줄이는 역할을 하나, 자주 사용되지는 않음"
      ],
      "metadata": {
        "id": "exRqtN7HKIMn"
      }
    },
    {
      "cell_type": "markdown",
      "source": [
        "**플링(pooling)**\n",
        "\n",
        "합성곱 층에서 만든 특성 앱의 가로세로 크기를 줄이는 역할을 합 그러나 특성 앱의 개수는 줄이지 않을\n",
        "합성곱처럼 입력 위를 지나가면서 도장을 찍으나 가중치가 없으며 겹치지 않을"
      ],
      "metadata": {
        "id": "S6SZzZJTKLlV"
      }
    },
    {
      "cell_type": "markdown",
      "source": [
        "**최대 풀링(max pooling)**\n",
        "\n",
        "도장을 찍는 영역에서 가장 큰 값을 선택\n",
        "\n",
        "**평균 풀링(aveage pooling)**\n",
        "\n",
        "도장을 찍는 영역의 평균값을 계산함\n",
        "\n",
        "**풀링을 사용하는 이유**\n",
        "\n",
        "합성곱에서 스트라이드를 크게 하여 특성 맵을 줄이는 것보다 풀링 층에서 크기를 줄이는 것이 경험적으로 더 나은 성능을 내기 때문 따라서 합성곱 신경망은 합성곱 층에서 특성 맵을 생성하고 풀링에서 크기를 줄이는 구조가 쌍을 이룸 합성곱 증과 뚜렷이 구분되기 때문에 폴링 층이라 부름\n",
        "예제: (4.4)크기의 특성 맵에 (2.2) 최대 풀링 적용"
      ],
      "metadata": {
        "id": "AH3TMtLVKx_j"
      }
    },
    {
      "cell_type": "code",
      "source": [
        "#최대 풀링\n",
        "keras. layers MAXPooling2D(2, strides=2, padding= valid')\n",
        "#첫 번째 매개변수는 물량의 크기로서 2로 지정\n",
        "#사용이 극히 드무나, 가로 세로 크기를 다르게 지정하는 것도 가능: 예 (2,3) #두 번째 매개변수는 스트라이더이며 기본값은 품량의 크기가 자동으로 지정된 #따라서 굳이 따로 지정할 필요가 없음\n",
        "#세 번째 매개변수는 매딩으로 기본값은 'valid'이며 매딩을 하지 않음\n",
        "#플링은 패딩을 하지 않기 때문에 이 매개변수를 지정할 필요는 거의 없음\n",
        "#당 군 플링\n",
        "keras. lavers.Avergefoling20(2. strides=2, ceddinge vslid)\n",
        "#주정대한대신 평균값을 계산한다는 것만 빼고는 등일 (매개변수도 동일)\n",
        "#대부분 최대 플링을 많이 사용함"
      ],
      "metadata": {
        "id": "YHdyCg4ILHCw"
      },
      "execution_count": null,
      "outputs": []
    },
    {
      "cell_type": "markdown",
      "source": [
        "• 세임 패팅을 적용하여 (4.4)크기의 특성 맵 3개를 얻음\n",
        "\n",
        "• 각 특성 맵에 활성화 함수 적용\n",
        "\n",
        "• (4,4,3) 특성 맵을 얻음\n",
        "3. 풀링증\n",
        "\n",
        "• (2,2,3) 특성 맵을 얻음\n",
        "\n",
        "• 각 특성 맵의 크기를 (4,4)에서 (2.2)로 줄이기 위해, (2.2) 최대 풀링을 적용\n",
        "4. 밀집층\n",
        "\n",
        "• (2,2.3) 특성 맵을 출력층으로 전달하기 위해 3차원 배열을 1차원으로 펼침\n",
        "\n",
        "• Flatten 클래스를 이용하여 12개의 원소를 가진 1차원배열로 변경\n",
        "\n",
        "• 3개의 클래스를 분류하기 위해 3개의 뉴런을 배치\n",
        "5. 출력증\n",
        "\n",
        "• 3개의 뉴런의 출력값에 소프트백스 활성화 함수를 사용하여 최종 예측 확률로 변환 이중에서\n",
        "1합성곱 층과 풀링 층은 쌍을 이루어 여러 번 반복될 수 있음\n",
        "\n",
        "즉,\n",
        "232-3~4>5 가 가능함\n",
        "그러나 2'와 3'의 입력값의 크기는 2와 3과는 다르다는 것에 주의할 것\n"
      ],
      "metadata": {
        "id": "52HiYktJL4Kv"
      }
    },
    {
      "cell_type": "markdown",
      "source": [
        "**컬러 이미지를 사용한 합성곱**\n",
        "\n",
        "컬러 이미지는 RGB 채널로 구성되기 때문에 3차원 배열로 표시 하나의 컬러 이미지는 너비와 높이 차원 외에 깊이(또는 채널) 차원이 있음\n",
        "예를 들어 흑백 이미지가 (4.4)라면 컬러 이미지는 (4.4.3)\n",
        "깊이가 있는 입력에서 합성곱을 수행하기 위해서는 커널도 깊이가 필요함 즉, 필터의 커널 크기나 (3.3)이 아니라 (3.3.3)\n",
        "커널 배열의 깊이는 항상 입력의 깊이와 같음\n",
        "따라서 입력과 필터의 차원이 몇 개인지 상관없이 항상 출력은 하나의 값임 케라스의 합성곱 층은 입력이 3차원일 것을 기대하므로 2차원 이미지는 깊이 차원이 1인 3차원 배열로 변환"
      ],
      "metadata": {
        "id": "l3latMVtL3-q"
      }
    },
    {
      "cell_type": "markdown",
      "source": [
        "**합성곱층과 풀링층의 반복 사용**\n",
        "\n",
        "예제:\n",
        "\n",
        "입력이 (4,4.3)이고 (3,3,3) 크기의 어널을 가지는 5개의 필터가 있다고 가정 패딩을 사용하고 첫 번째 풀링 층을 통과한 특성 맵의 크기는 (4,4.5)\n",
        "합성곱 층과 풀링 층을 한 번 더 반복한다면?\n",
        "\n",
        "두 번째 합성곱 층의 필터 개수가 10개라면 만들어진 특성 맵의 크기는 (2,2,10)이 됨 즉, 깊이가 추가됨\n",
        "합성곱 신경명은 너비와 높이는 점점 줄어들지만 깊이는 점점 깊어지는 것이 특징임 이후 밀집증은 특성 맵을 모두 펼쳐서 밀집증의 입력으로 사용"
      ],
      "metadata": {
        "id": "KrsAS2v0MbDA"
      }
    },
    {
      "cell_type": "markdown",
      "source": [
        "**이미지 분석을 위한 합성곱 신경망 모델 이용**\n",
        "\n",
        "합성곱 신경망에서 필터는 이미지에 있는 어떤 특징을 찾는다고 생각할 수 있음\n",
        "처음에는 간단한 기본적인 특징 (직선, 곡선 등)을 찾고 층이 깊어질수록 다양하고 구체적인 특징을 감지할 수 있도록 필터의 개수를 늘림 또한 어떤 특징이 이미지의 어느 위치에 놓이더라도 쉽게 감지할 수 있도록 너비와 높이 차원을 점점 줄여나감 자세한 것은 다음 절들을 통해 직접 이해할 수 있음"
      ],
      "metadata": {
        "id": "yUwpfnPhNK4y"
      }
    }
  ]
}